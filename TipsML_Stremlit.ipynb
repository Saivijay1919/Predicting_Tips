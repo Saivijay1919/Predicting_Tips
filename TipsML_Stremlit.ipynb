{
  "nbformat": 4,
  "nbformat_minor": 0,
  "metadata": {
    "colab": {
      "name": "Copy of End-end-TipsML_Stremlit.ipynb",
      "provenance": [],
      "collapsed_sections": []
    },
    "kernelspec": {
      "name": "python3",
      "display_name": "Python 3"
    },
    "language_info": {
      "name": "python"
    }
  },
  "cells": [
    {
      "cell_type": "code",
      "metadata": {
        "colab": {
          "base_uri": "https://localhost:8080/"
        },
        "id": "HACyFzB2ySAn",
        "outputId": "f381c356-3a26-4d25-cda9-b3f7f9c4466e"
      },
      "source": [
        "import seaborn as sns\n",
        "print(sns.get_dataset_names())"
      ],
      "execution_count": null,
      "outputs": [
        {
          "output_type": "stream",
          "name": "stdout",
          "text": [
            "['anagrams', 'anscombe', 'attention', 'brain_networks', 'car_crashes', 'diamonds', 'dots', 'exercise', 'flights', 'fmri', 'gammas', 'geyser', 'iris', 'mpg', 'penguins', 'planets', 'taxis', 'tips', 'titanic']\n"
          ]
        }
      ]
    },
    {
      "cell_type": "code",
      "metadata": {
        "id": "EpELZC2E0tsF"
      },
      "source": [
        "import pandas as pd\n",
        "\n",
        "import numpy as np\n",
        "\n",
        "import matplotlib.pyplot as plt\n",
        "\n",
        "import seaborn as sb\n",
        "\n",
        "from sklearn.model_selection import train_test_split\n",
        "\n",
        "from sklearn.linear_model import LinearRegression"
      ],
      "execution_count": null,
      "outputs": []
    },
    {
      "cell_type": "code",
      "metadata": {
        "colab": {
          "base_uri": "https://localhost:8080/",
          "height": 111
        },
        "id": "cyAuC12iyWqq",
        "outputId": "6e6b916b-bef6-4d8e-cdb7-97bcdea3cbd8"
      },
      "source": [
        "df=sns.load_dataset('tips')\n",
        "\n",
        "df.head(2)"
      ],
      "execution_count": null,
      "outputs": [
        {
          "output_type": "execute_result",
          "data": {
            "text/html": [
              "<div>\n",
              "<style scoped>\n",
              "    .dataframe tbody tr th:only-of-type {\n",
              "        vertical-align: middle;\n",
              "    }\n",
              "\n",
              "    .dataframe tbody tr th {\n",
              "        vertical-align: top;\n",
              "    }\n",
              "\n",
              "    .dataframe thead th {\n",
              "        text-align: right;\n",
              "    }\n",
              "</style>\n",
              "<table border=\"1\" class=\"dataframe\">\n",
              "  <thead>\n",
              "    <tr style=\"text-align: right;\">\n",
              "      <th></th>\n",
              "      <th>total_bill</th>\n",
              "      <th>tip</th>\n",
              "      <th>sex</th>\n",
              "      <th>smoker</th>\n",
              "      <th>day</th>\n",
              "      <th>time</th>\n",
              "      <th>size</th>\n",
              "    </tr>\n",
              "  </thead>\n",
              "  <tbody>\n",
              "    <tr>\n",
              "      <th>0</th>\n",
              "      <td>16.99</td>\n",
              "      <td>1.01</td>\n",
              "      <td>Female</td>\n",
              "      <td>No</td>\n",
              "      <td>Sun</td>\n",
              "      <td>Dinner</td>\n",
              "      <td>2</td>\n",
              "    </tr>\n",
              "    <tr>\n",
              "      <th>1</th>\n",
              "      <td>10.34</td>\n",
              "      <td>1.66</td>\n",
              "      <td>Male</td>\n",
              "      <td>No</td>\n",
              "      <td>Sun</td>\n",
              "      <td>Dinner</td>\n",
              "      <td>3</td>\n",
              "    </tr>\n",
              "  </tbody>\n",
              "</table>\n",
              "</div>"
            ],
            "text/plain": [
              "   total_bill   tip     sex smoker  day    time  size\n",
              "0       16.99  1.01  Female     No  Sun  Dinner     2\n",
              "1       10.34  1.66    Male     No  Sun  Dinner     3"
            ]
          },
          "metadata": {},
          "execution_count": 3
        }
      ]
    },
    {
      "cell_type": "code",
      "metadata": {
        "colab": {
          "base_uri": "https://localhost:8080/"
        },
        "id": "AQf2tdnsyobC",
        "outputId": "45b8fbec-5b71-46fb-a991-796fbd6b4429"
      },
      "source": [
        "df.isna().sum()"
      ],
      "execution_count": null,
      "outputs": [
        {
          "output_type": "execute_result",
          "data": {
            "text/plain": [
              "total_bill    0\n",
              "tip           0\n",
              "sex           0\n",
              "smoker        0\n",
              "day           0\n",
              "time          0\n",
              "size          0\n",
              "dtype: int64"
            ]
          },
          "metadata": {},
          "execution_count": 4
        }
      ]
    },
    {
      "cell_type": "code",
      "metadata": {
        "colab": {
          "base_uri": "https://localhost:8080/"
        },
        "id": "revVguyAyodK",
        "outputId": "639f8707-62d0-4628-edd0-6c109f341fa1"
      },
      "source": [
        "df.isnull().sum().sum()"
      ],
      "execution_count": null,
      "outputs": [
        {
          "output_type": "execute_result",
          "data": {
            "text/plain": [
              "0"
            ]
          },
          "metadata": {},
          "execution_count": 5
        }
      ]
    },
    {
      "cell_type": "code",
      "metadata": {
        "colab": {
          "base_uri": "https://localhost:8080/"
        },
        "id": "EjfC2oGM59NA",
        "outputId": "811e0cd7-7ca5-4902-93cc-bf16d350ddbf"
      },
      "source": [
        "df.columns"
      ],
      "execution_count": null,
      "outputs": [
        {
          "output_type": "execute_result",
          "data": {
            "text/plain": [
              "Index(['total_bill', 'tip', 'sex', 'smoker', 'day', 'time', 'size'], dtype='object')"
            ]
          },
          "metadata": {},
          "execution_count": 6
        }
      ]
    },
    {
      "cell_type": "code",
      "metadata": {
        "colab": {
          "base_uri": "https://localhost:8080/"
        },
        "id": "qxBZ2hE9ywzi",
        "outputId": "b549b680-9118-43f3-d12d-7f707434f817"
      },
      "source": [
        "df.info()"
      ],
      "execution_count": null,
      "outputs": [
        {
          "output_type": "stream",
          "name": "stdout",
          "text": [
            "<class 'pandas.core.frame.DataFrame'>\n",
            "RangeIndex: 244 entries, 0 to 243\n",
            "Data columns (total 7 columns):\n",
            " #   Column      Non-Null Count  Dtype   \n",
            "---  ------      --------------  -----   \n",
            " 0   total_bill  244 non-null    float64 \n",
            " 1   tip         244 non-null    float64 \n",
            " 2   sex         244 non-null    category\n",
            " 3   smoker      244 non-null    category\n",
            " 4   day         244 non-null    category\n",
            " 5   time        244 non-null    category\n",
            " 6   size        244 non-null    int64   \n",
            "dtypes: category(4), float64(2), int64(1)\n",
            "memory usage: 7.3 KB\n"
          ]
        }
      ]
    },
    {
      "cell_type": "code",
      "metadata": {
        "colab": {
          "base_uri": "https://localhost:8080/"
        },
        "id": "3F1fevCfyyqU",
        "outputId": "93af8bb5-b7fd-4ce5-d659-8f11b3eb5c24"
      },
      "source": [
        "\n",
        "categ_fea = [features for features in df.columns if df[features].dtype!='int64' and df[features].dtype!='float']\n",
        "\n",
        "categ_fea"
      ],
      "execution_count": null,
      "outputs": [
        {
          "output_type": "execute_result",
          "data": {
            "text/plain": [
              "['sex', 'smoker', 'day', 'time']"
            ]
          },
          "metadata": {},
          "execution_count": 8
        }
      ]
    },
    {
      "cell_type": "code",
      "metadata": {
        "id": "-O6eQ2LxzRj3"
      },
      "source": [
        "from sklearn import preprocessing\n",
        "leaenc = preprocessing.LabelEncoder()\n",
        "\n",
        "for features in categ_fea:\n",
        "    df[features]= leaenc.fit_transform(df[features])\n",
        "    "
      ],
      "execution_count": null,
      "outputs": []
    },
    {
      "cell_type": "code",
      "metadata": {
        "colab": {
          "base_uri": "https://localhost:8080/",
          "height": 266
        },
        "id": "gHuCJ39-0JxV",
        "outputId": "32ee8d81-f7e3-4004-9d04-9a4697d961e5"
      },
      "source": [
        "df.corr()"
      ],
      "execution_count": null,
      "outputs": [
        {
          "output_type": "execute_result",
          "data": {
            "text/html": [
              "<div>\n",
              "<style scoped>\n",
              "    .dataframe tbody tr th:only-of-type {\n",
              "        vertical-align: middle;\n",
              "    }\n",
              "\n",
              "    .dataframe tbody tr th {\n",
              "        vertical-align: top;\n",
              "    }\n",
              "\n",
              "    .dataframe thead th {\n",
              "        text-align: right;\n",
              "    }\n",
              "</style>\n",
              "<table border=\"1\" class=\"dataframe\">\n",
              "  <thead>\n",
              "    <tr style=\"text-align: right;\">\n",
              "      <th></th>\n",
              "      <th>total_bill</th>\n",
              "      <th>tip</th>\n",
              "      <th>sex</th>\n",
              "      <th>smoker</th>\n",
              "      <th>day</th>\n",
              "      <th>time</th>\n",
              "      <th>size</th>\n",
              "    </tr>\n",
              "  </thead>\n",
              "  <tbody>\n",
              "    <tr>\n",
              "      <th>total_bill</th>\n",
              "      <td>1.000000</td>\n",
              "      <td>0.675734</td>\n",
              "      <td>0.144877</td>\n",
              "      <td>0.085721</td>\n",
              "      <td>-0.043550</td>\n",
              "      <td>-0.183118</td>\n",
              "      <td>0.598315</td>\n",
              "    </tr>\n",
              "    <tr>\n",
              "      <th>tip</th>\n",
              "      <td>0.675734</td>\n",
              "      <td>1.000000</td>\n",
              "      <td>0.088862</td>\n",
              "      <td>0.005929</td>\n",
              "      <td>-0.011548</td>\n",
              "      <td>-0.121629</td>\n",
              "      <td>0.489299</td>\n",
              "    </tr>\n",
              "    <tr>\n",
              "      <th>sex</th>\n",
              "      <td>0.144877</td>\n",
              "      <td>0.088862</td>\n",
              "      <td>1.000000</td>\n",
              "      <td>0.002816</td>\n",
              "      <td>-0.078292</td>\n",
              "      <td>-0.205231</td>\n",
              "      <td>0.086195</td>\n",
              "    </tr>\n",
              "    <tr>\n",
              "      <th>smoker</th>\n",
              "      <td>0.085721</td>\n",
              "      <td>0.005929</td>\n",
              "      <td>0.002816</td>\n",
              "      <td>1.000000</td>\n",
              "      <td>-0.282721</td>\n",
              "      <td>-0.054921</td>\n",
              "      <td>-0.133178</td>\n",
              "    </tr>\n",
              "    <tr>\n",
              "      <th>day</th>\n",
              "      <td>-0.043550</td>\n",
              "      <td>-0.011548</td>\n",
              "      <td>-0.078292</td>\n",
              "      <td>-0.282721</td>\n",
              "      <td>1.000000</td>\n",
              "      <td>0.638019</td>\n",
              "      <td>0.069510</td>\n",
              "    </tr>\n",
              "    <tr>\n",
              "      <th>time</th>\n",
              "      <td>-0.183118</td>\n",
              "      <td>-0.121629</td>\n",
              "      <td>-0.205231</td>\n",
              "      <td>-0.054921</td>\n",
              "      <td>0.638019</td>\n",
              "      <td>1.000000</td>\n",
              "      <td>-0.103411</td>\n",
              "    </tr>\n",
              "    <tr>\n",
              "      <th>size</th>\n",
              "      <td>0.598315</td>\n",
              "      <td>0.489299</td>\n",
              "      <td>0.086195</td>\n",
              "      <td>-0.133178</td>\n",
              "      <td>0.069510</td>\n",
              "      <td>-0.103411</td>\n",
              "      <td>1.000000</td>\n",
              "    </tr>\n",
              "  </tbody>\n",
              "</table>\n",
              "</div>"
            ],
            "text/plain": [
              "            total_bill       tip       sex  ...       day      time      size\n",
              "total_bill    1.000000  0.675734  0.144877  ... -0.043550 -0.183118  0.598315\n",
              "tip           0.675734  1.000000  0.088862  ... -0.011548 -0.121629  0.489299\n",
              "sex           0.144877  0.088862  1.000000  ... -0.078292 -0.205231  0.086195\n",
              "smoker        0.085721  0.005929  0.002816  ... -0.282721 -0.054921 -0.133178\n",
              "day          -0.043550 -0.011548 -0.078292  ...  1.000000  0.638019  0.069510\n",
              "time         -0.183118 -0.121629 -0.205231  ...  0.638019  1.000000 -0.103411\n",
              "size          0.598315  0.489299  0.086195  ...  0.069510 -0.103411  1.000000\n",
              "\n",
              "[7 rows x 7 columns]"
            ]
          },
          "metadata": {},
          "execution_count": 10
        }
      ]
    },
    {
      "cell_type": "code",
      "metadata": {
        "colab": {
          "base_uri": "https://localhost:8080/",
          "height": 111
        },
        "id": "Lw1HgCxM0ZK8",
        "outputId": "901e4faf-d56e-4055-d35f-f6bb8b81ba0d"
      },
      "source": [
        "x= df.drop(['tip'],axis=1)\n",
        "\n",
        "y= df['tip']\n",
        "\n",
        "x.head(2)"
      ],
      "execution_count": null,
      "outputs": [
        {
          "output_type": "execute_result",
          "data": {
            "text/html": [
              "<div>\n",
              "<style scoped>\n",
              "    .dataframe tbody tr th:only-of-type {\n",
              "        vertical-align: middle;\n",
              "    }\n",
              "\n",
              "    .dataframe tbody tr th {\n",
              "        vertical-align: top;\n",
              "    }\n",
              "\n",
              "    .dataframe thead th {\n",
              "        text-align: right;\n",
              "    }\n",
              "</style>\n",
              "<table border=\"1\" class=\"dataframe\">\n",
              "  <thead>\n",
              "    <tr style=\"text-align: right;\">\n",
              "      <th></th>\n",
              "      <th>total_bill</th>\n",
              "      <th>sex</th>\n",
              "      <th>smoker</th>\n",
              "      <th>day</th>\n",
              "      <th>time</th>\n",
              "      <th>size</th>\n",
              "    </tr>\n",
              "  </thead>\n",
              "  <tbody>\n",
              "    <tr>\n",
              "      <th>0</th>\n",
              "      <td>16.99</td>\n",
              "      <td>0</td>\n",
              "      <td>0</td>\n",
              "      <td>2</td>\n",
              "      <td>0</td>\n",
              "      <td>2</td>\n",
              "    </tr>\n",
              "    <tr>\n",
              "      <th>1</th>\n",
              "      <td>10.34</td>\n",
              "      <td>1</td>\n",
              "      <td>0</td>\n",
              "      <td>2</td>\n",
              "      <td>0</td>\n",
              "      <td>3</td>\n",
              "    </tr>\n",
              "  </tbody>\n",
              "</table>\n",
              "</div>"
            ],
            "text/plain": [
              "   total_bill  sex  smoker  day  time  size\n",
              "0       16.99    0       0    2     0     2\n",
              "1       10.34    1       0    2     0     3"
            ]
          },
          "metadata": {},
          "execution_count": 11
        }
      ]
    },
    {
      "cell_type": "code",
      "metadata": {
        "id": "NpmgTND80ZNU"
      },
      "source": [
        "xtrain,xtest,ytrain,ytest =train_test_split(x,y,test_size=0.25)"
      ],
      "execution_count": null,
      "outputs": []
    },
    {
      "cell_type": "code",
      "metadata": {
        "id": "3NNE3tu60ZTp"
      },
      "source": [
        "#!pip install lazypredict"
      ],
      "execution_count": null,
      "outputs": []
    },
    {
      "cell_type": "code",
      "metadata": {
        "id": "Arh23hP00ZRJ"
      },
      "source": [
        ""
      ],
      "execution_count": null,
      "outputs": []
    },
    {
      "cell_type": "code",
      "metadata": {
        "colab": {
          "base_uri": "https://localhost:8080/"
        },
        "id": "Im3fN9kj0ZXI",
        "outputId": "e4ee5d84-7bcf-42cb-ef39-3bf9943e36fd"
      },
      "source": [
        "lrm= LinearRegression()\n",
        "\n",
        "bmlr=lrm.fit(xtrain,ytrain)\n",
        "\n",
        "y_pred = bmlr.predict(xtest)\n",
        "\n",
        "print(\"Model accuracy is\", bmlr.score(xtest, ytest))"
      ],
      "execution_count": null,
      "outputs": [
        {
          "output_type": "stream",
          "name": "stdout",
          "text": [
            "Model accuracy is 0.4763495451216117\n"
          ]
        }
      ]
    },
    {
      "cell_type": "code",
      "metadata": {
        "id": "1kksl6TI0ZnS"
      },
      "source": [
        "### Create a Pickle file using serialization \n",
        "import pickle\n",
        "pickle_out = open(\"tips.pkl\",\"wb\")\n",
        "pickle.dump(bmlr, pickle_out)\n",
        "pickle_out.close()\n"
      ],
      "execution_count": null,
      "outputs": []
    },
    {
      "cell_type": "code",
      "metadata": {
        "colab": {
          "base_uri": "https://localhost:8080/"
        },
        "id": "6AVTw7qF30DF",
        "outputId": "e7865e1b-389e-49e5-fbd0-33198c112be8"
      },
      "source": [
        "!ls"
      ],
      "execution_count": null,
      "outputs": [
        {
          "output_type": "stream",
          "name": "stdout",
          "text": [
            "sample_data  tips.pkl\n"
          ]
        }
      ]
    },
    {
      "cell_type": "code",
      "metadata": {
        "id": "5SWfjTpb4Pkc",
        "colab": {
          "base_uri": "https://localhost:8080/"
        },
        "outputId": "49ba5dfb-c77d-4d87-e3a0-eddecbfc7906"
      },
      "source": [
        "!pip install streamlit -q\n"
      ],
      "execution_count": null,
      "outputs": [
        {
          "output_type": "stream",
          "name": "stdout",
          "text": [
            "\u001b[K     |████████████████████████████████| 9.1 MB 10.9 MB/s \n",
            "\u001b[K     |████████████████████████████████| 180 kB 71.2 MB/s \n",
            "\u001b[K     |████████████████████████████████| 111 kB 74.0 MB/s \n",
            "\u001b[K     |████████████████████████████████| 76 kB 4.4 MB/s \n",
            "\u001b[K     |████████████████████████████████| 4.3 MB 66.3 MB/s \n",
            "\u001b[K     |████████████████████████████████| 178 kB 93.2 MB/s \n",
            "\u001b[K     |████████████████████████████████| 63 kB 1.4 MB/s \n",
            "\u001b[K     |████████████████████████████████| 125 kB 71.3 MB/s \n",
            "\u001b[K     |████████████████████████████████| 790 kB 54.8 MB/s \n",
            "\u001b[K     |████████████████████████████████| 374 kB 65.5 MB/s \n",
            "\u001b[?25h  Building wheel for pympler (setup.py) ... \u001b[?25l\u001b[?25hdone\n",
            "  Building wheel for blinker (setup.py) ... \u001b[?25l\u001b[?25hdone\n",
            "\u001b[31mERROR: pip's dependency resolver does not currently take into account all the packages that are installed. This behaviour is the source of the following dependency conflicts.\n",
            "jupyter-console 5.2.0 requires prompt-toolkit<2.0.0,>=1.0.0, but you have prompt-toolkit 3.0.22 which is incompatible.\n",
            "google-colab 1.0.0 requires ipykernel~=4.10, but you have ipykernel 6.5.0 which is incompatible.\n",
            "google-colab 1.0.0 requires ipython~=5.5.0, but you have ipython 7.29.0 which is incompatible.\u001b[0m\n"
          ]
        }
      ]
    },
    {
      "cell_type": "code",
      "metadata": {
        "id": "8wJ8bcG2GL1w"
      },
      "source": [
        "# To stop the process\n",
        "\n",
        "ls"
      ],
      "execution_count": null,
      "outputs": []
    },
    {
      "cell_type": "code",
      "metadata": {
        "id": "7hYuP_tgGMMa"
      },
      "source": [
        ""
      ],
      "execution_count": null,
      "outputs": []
    },
    {
      "cell_type": "code",
      "metadata": {
        "colab": {
          "base_uri": "https://localhost:8080/"
        },
        "id": "CEDsBTnK87Ix",
        "outputId": "15182c48-2a60-470e-f3c4-5ed071ac60c7"
      },
      "source": [
        "!ls"
      ],
      "execution_count": null,
      "outputs": [
        {
          "output_type": "stream",
          "name": "stdout",
          "text": [
            "app.py\tsample_data  tips.pkl\n"
          ]
        }
      ]
    },
    {
      "cell_type": "code",
      "metadata": {
        "colab": {
          "base_uri": "https://localhost:8080/"
        },
        "id": "gZmTkYtg87K6",
        "outputId": "49746bb8-3f96-4faf-c84a-1f98c4432591"
      },
      "source": [
        "!streamlit run app.py & npx localtunnel --port 8501"
      ],
      "execution_count": null,
      "outputs": [
        {
          "output_type": "stream",
          "name": "stdout",
          "text": [
            "\u001b[0m\n",
            "\u001b[34m\u001b[1m  You can now view your Streamlit app in your browser.\u001b[0m\n",
            "\u001b[0m\n",
            "\u001b[34m  Network URL: \u001b[0m\u001b[1mhttp://172.28.0.2:8501\u001b[0m\n",
            "\u001b[34m  External URL: \u001b[0m\u001b[1mhttp://34.91.71.46:8501\u001b[0m\n",
            "\u001b[0m\n",
            "\u001b[K\u001b[?25hnpx: installed 22 in 3.428s\n",
            "your url is: https://splendid-cougar-2.loca.lt\n",
            "\u001b[34m  Stopping...\u001b[0m\n",
            "^C\n"
          ]
        }
      ]
    },
    {
      "cell_type": "code",
      "metadata": {
        "id": "BZ1FJA-h87Od"
      },
      "source": [
        ""
      ],
      "execution_count": null,
      "outputs": []
    },
    {
      "cell_type": "code",
      "metadata": {
        "id": "7BEpOZv287RS"
      },
      "source": [
        "# Penguin Prediction App"
      ],
      "execution_count": null,
      "outputs": []
    },
    {
      "cell_type": "code",
      "metadata": {
        "colab": {
          "base_uri": "https://localhost:8080/"
        },
        "id": "aErtuN6oA3eb",
        "outputId": "79db331f-606e-4d98-a61f-2d0355f86c60"
      },
      "source": [
        "%%writefile tips-app.py\n",
        "import streamlit as st\n",
        "import pandas as pd\n",
        "import numpy as np\n",
        "import pickle\n",
        "from sklearn.ensemble import RandomForestClassifier\n",
        "\n",
        "st.write(\"\"\"\n",
        "# Customer Tips Prediction App\n",
        "\"\"\")\n",
        "\n",
        "st.sidebar.header('User Input Features')\n",
        "\n",
        "def user_input_features():\n",
        "  total_bill = st.sidebar.slider('total_bill',10.00,100.81,25.78)\n",
        "  sex = st.sidebar.selectbox('sex',('Female','Male'))\n",
        "  smoker = st.sidebar.selectbox('smoker',('No','Yes'))\n",
        "  day = st.sidebar.selectbox('day',('Sun','Sat','Thur','Fri'))\n",
        "  time = st.sidebar.selectbox('time',('Dinner','Lunch'))\n",
        "  size = st.sidebar.slider('size',1,15,4)\n",
        "  data = {'total_bill': total_bill,\n",
        "          'sex': sex,\n",
        "          'smoker': smoker,\n",
        "          'day': day,\n",
        "          'time': time,\n",
        "          'size': size}\n",
        "\n",
        "  features = pd.DataFrame(data, index=[0])\n",
        "  return features\n",
        "\n",
        "df = user_input_features()\n",
        "\n",
        "encode = ['sex','smoker','day','time']\n",
        "for col in encode:\n",
        "    dummy = pd.get_dummies(df[col], prefix=col)\n",
        "    df = pd.concat([df,dummy], axis=1)\n",
        "    del df[col]\n",
        "df = df[:1] # Selects only the first row (the user input data)\n",
        "\n",
        "# Displays the user input features\n",
        "st.subheader('Given/Provided User Input features')\n",
        "st.write(df)\n",
        "\n",
        "# Reads in saved  model\n",
        "load_clf = pickle.load(open('tips.pkl', 'rb'))\n",
        "\n",
        "# Apply model to make predictions\n",
        "prediction = load_clf.predict(df)\n",
        "st.header('Prediction of Tip')\n",
        "st.write(prediction)\n",
        "st.write('---')\n",
        "\n",
        "\n",
        "\n",
        "\n"
      ],
      "execution_count": null,
      "outputs": [
        {
          "output_type": "stream",
          "name": "stdout",
          "text": [
            "Overwriting tips-app.py\n"
          ]
        }
      ]
    },
    {
      "cell_type": "code",
      "metadata": {
        "colab": {
          "base_uri": "https://localhost:8080/"
        },
        "id": "YsIRsOG1G5pn",
        "outputId": "8666dd5f-4594-4e0e-b39a-df2459837c08"
      },
      "source": [
        "!streamlit run tips-app.py & npx localtunnel --port 8501"
      ],
      "execution_count": null,
      "outputs": [
        {
          "output_type": "stream",
          "name": "stdout",
          "text": [
            "\u001b[0m\n",
            "\u001b[34m\u001b[1m  You can now view your Streamlit app in your browser.\u001b[0m\n",
            "\u001b[0m\n",
            "\u001b[34m  Network URL: \u001b[0m\u001b[1mhttp://172.28.0.2:8501\u001b[0m\n",
            "\u001b[34m  External URL: \u001b[0m\u001b[1mhttp://34.91.71.46:8501\u001b[0m\n",
            "\u001b[0m\n",
            "\u001b[K\u001b[?25hnpx: installed 22 in 2.878s\n",
            "your url is: https://fast-bird-61.loca.lt\n",
            "\u001b[34m  Stopping...\u001b[0m\n",
            "^C\n"
          ]
        }
      ]
    },
    {
      "cell_type": "code",
      "metadata": {
        "id": "jALlg_bOG5c5"
      },
      "source": [
        ""
      ],
      "execution_count": null,
      "outputs": []
    },
    {
      "cell_type": "code",
      "metadata": {
        "id": "ed6xYVh0RSzs"
      },
      "source": [
        ""
      ],
      "execution_count": null,
      "outputs": []
    },
    {
      "cell_type": "markdown",
      "metadata": {
        "id": "pAgCUoRmRW9B"
      },
      "source": [
        "Using with test boxes"
      ]
    },
    {
      "cell_type": "code",
      "metadata": {
        "id": "FqSBJ1rKRS2L"
      },
      "source": [
        "##NOT RECOMMENDED prog"
      ],
      "execution_count": null,
      "outputs": []
    },
    {
      "cell_type": "code",
      "metadata": {
        "colab": {
          "base_uri": "https://localhost:8080/"
        },
        "id": "wqLiKMwW4ZFt",
        "outputId": "aa29d853-e7ae-433a-8449-74d50e9028f7"
      },
      "source": [
        "%%writefile app.py\n",
        "import numpy as np\n",
        "import pickle\n",
        "import pandas as pd\n",
        "import streamlit as st \n",
        "\n",
        "from PIL import Image\n",
        "\n",
        "pickle_in = open(\"tips.pkl\",\"rb\")\n",
        "bmlr=pickle.load(pickle_in)\n",
        "\n",
        "def welcome():\n",
        "    return \"Welcome All\"\n",
        "\n",
        "def predict_tip(total_bill,sex,smoker,day,time,size):\n",
        "    \n",
        "    \"\"\"Let's Authenticate the Banks Note \n",
        "    This is using docstrings for specifications.\n",
        "    ---\n",
        "    parameters:  \n",
        "      - name: total_bill\n",
        "        in: query\n",
        "        type: number\n",
        "        required: true\n",
        "      - name: sex\n",
        "        in: query\n",
        "        type: number\n",
        "        required: true\n",
        "      - name: smoker\n",
        "        in: query\n",
        "        type: number\n",
        "        required: true\n",
        "      - name: day\n",
        "        in: query\n",
        "        type: number\n",
        "        required: false\n",
        "      - name: time\n",
        "        in: query\n",
        "        type: number\n",
        "        required: false\n",
        "      - name: size\n",
        "        in: query\n",
        "        type: number\n",
        "        required: true\n",
        "    responses:\n",
        "        200:\n",
        "            description: The output values\n",
        "        \n",
        "    \"\"\"\n",
        "   \n",
        "    prediction=bmlr.predict([[total_bill,sex,smoker,day,time,size]])\n",
        "    print(prediction)\n",
        "    return prediction\n",
        "\n",
        "\n",
        "\n",
        "def main():\n",
        "    st.title(\"Customer Tips Prediction\")\n",
        "    html_temp = \"\"\"\n",
        "    <div style=\"background-color:tomato;padding:10px\">\n",
        "    <h2 style=\"color:white;text-align:center;\">Streamlit Tip Prediction ML App </h2>\n",
        "    </div>\n",
        "    \"\"\"\n",
        "    st.markdown(html_temp,unsafe_allow_html=True)\n",
        "    total_bill = st.sidebar.slider('total_bill',3.07,150.81,19.78)\n",
        "    sex = st.sidebar.selectbox('sex',('Female','Male'))\n",
        "    smoker = st.sidebar.selectbox('smoker',('No','Yes'))\n",
        "    day = st.sidebar.selectbox('day',('Sun','Sat','Thur','Fri'))\n",
        "    time = st.sidebar.selectbox('time',('Dinner','Lunch'))\n",
        "    size = st.sidebar.slider('size',1,15,4)\n",
        "    result=\"\"\n",
        "    if st.button(\"Predict\"):\n",
        "        result=predict_tip(total_bill,sex,smoker,day,time,size)\n",
        "    st.success('The output is {}'.format(result))\n",
        "    if st.button(\"About\"):\n",
        "        st.text(\"SAI VIJAY\")\n",
        "        st.text(\"Built with Streamlit\")\n",
        "\n",
        "if __name__=='__main__':\n",
        "    main()\n",
        "    "
      ],
      "execution_count": null,
      "outputs": [
        {
          "output_type": "stream",
          "name": "stdout",
          "text": [
            "Writing app.py\n"
          ]
        }
      ]
    }
  ]
}